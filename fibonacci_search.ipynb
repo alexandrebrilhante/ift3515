{
 "cells": [
  {
   "cell_type": "code",
   "execution_count": 1,
   "metadata": {},
   "outputs": [],
   "source": [
    "using Plots"
   ]
  },
  {
   "cell_type": "code",
   "execution_count": 2,
   "metadata": {},
   "outputs": [
    {
     "data": {
      "text/plain": [
       "f (generic function with 1 method)"
      ]
     },
     "execution_count": 2,
     "metadata": {},
     "output_type": "execute_result"
    }
   ],
   "source": [
    "f(x) = x^2+x-2*sqrt(x)"
   ]
  },
  {
   "cell_type": "code",
   "execution_count": 3,
   "metadata": {},
   "outputs": [
    {
     "data": {
      "text/html": [
       "<img src=\"data:image/png;base64,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\" />"
      ]
     },
     "execution_count": 3,
     "metadata": {},
     "output_type": "execute_result"
    }
   ],
   "source": [
    "xmin = 0.0\n",
    "xmax = 1.5\n",
    "plot(f, xmin, xmax)"
   ]
  },
  {
   "cell_type": "code",
   "execution_count": 4,
   "metadata": {},
   "outputs": [
    {
     "data": {
      "text/plain": [
       "50-element Array{Float64,1}:\n",
       "   1.0       \n",
       "   1.0       \n",
       "   2.0       \n",
       "   3.0       \n",
       "   5.0       \n",
       "   8.0       \n",
       "  13.0       \n",
       "  21.0       \n",
       "  34.0       \n",
       "  55.0       \n",
       "  89.0       \n",
       " 144.0       \n",
       " 233.0       \n",
       "   ⋮         \n",
       "   6.3246e7  \n",
       "   1.02334e8 \n",
       "   1.6558e8  \n",
       "   2.67914e8 \n",
       "   4.33494e8 \n",
       "   7.01409e8 \n",
       "   1.1349e9  \n",
       "   1.83631e9 \n",
       "   2.97122e9 \n",
       "   4.80753e9 \n",
       "   7.77874e9 \n",
       "   1.25863e10"
      ]
     },
     "execution_count": 4,
     "metadata": {},
     "output_type": "execute_result"
    }
   ],
   "source": [
    "N = 50\n",
    "F = ones(N)\n",
    "\n",
    "for i = 3:N\n",
    "    F[i] = F[i-1]+F[i-2]\n",
    "end\n",
    "\n",
    "F"
   ]
  },
  {
   "cell_type": "code",
   "execution_count": 5,
   "metadata": {},
   "outputs": [
    {
     "data": {
      "text/plain": [
       "1.0"
      ]
     },
     "execution_count": 5,
     "metadata": {},
     "output_type": "execute_result"
    }
   ],
   "source": [
    "xmin = 0\n",
    "xmax = 1.0"
   ]
  },
  {
   "cell_type": "code",
   "execution_count": 6,
   "metadata": {},
   "outputs": [
    {
     "data": {
      "text/plain": [
       "fibonacci_search (generic function with 2 methods)"
      ]
     },
     "execution_count": 6,
     "metadata": {},
     "output_type": "execute_result"
    }
   ],
   "source": [
    "function fibonacci_search(xmin, xmax, verbose::Bool = false)\n",
    "    k = 1\n",
    "    i = 1\n",
    "    d = xmax - xmin\n",
    "    xG = xmin+(F[N-2]/F[N])*d\n",
    "    xD = xmin+(F[N-1]/F[N])*d\n",
    "    fG = f(xG)\n",
    "    fD = f(xD)\n",
    "    while k < N-2\n",
    "        k += 1\n",
    "        i += 1\n",
    "        if fG < fD\n",
    "            xmax = xD\n",
    "            d = xmax - xmin\n",
    "            xD = xG\n",
    "            fD = fG\n",
    "            xG = xmin+(F[N-k-1]/F[N-k+1])*d\n",
    "            fG = f(xG)\n",
    "        elseif fG > fD\n",
    "            xmin = xG\n",
    "            d = xmax - xmin\n",
    "            xG = xD\n",
    "            fG = fD\n",
    "            xD = xmin+(F[N-k]/F[N-k+1])*d\n",
    "            fD = f(xD)\n",
    "        elseif fG == fD\n",
    "            k += 1\n",
    "            if k < N-2\n",
    "                xmin = xG\n",
    "                xmax = xD\n",
    "                d = xmax-xmin\n",
    "                xG = xmin+(F[N-k-1]/F[N-k+1])*d\n",
    "                xD = xmin+(F[N-k]/F[N-k+1])*d\n",
    "                fG = f(xG)\n",
    "                fD = f(xD)\n",
    "            end\n",
    "        end\n",
    "    end\n",
    "    return xmin, xmax\n",
    "end"
   ]
  },
  {
   "cell_type": "code",
   "execution_count": 7,
   "metadata": {},
   "outputs": [
    {
     "data": {
      "text/plain": [
       "(0.3478103875943794, 0.34781038774808054)"
      ]
     },
     "execution_count": 7,
     "metadata": {},
     "output_type": "execute_result"
    }
   ],
   "source": [
    "xmin, xmax = fibonacci_search(xmin, xmax)"
   ]
  }
 ],
 "metadata": {
  "kernelspec": {
   "display_name": "Julia 0.6.0",
   "language": "julia",
   "name": "julia-0.6"
  },
  "language_info": {
   "file_extension": ".jl",
   "mimetype": "application/julia",
   "name": "julia",
   "version": "0.6.2"
  }
 },
 "nbformat": 4,
 "nbformat_minor": 2
}
