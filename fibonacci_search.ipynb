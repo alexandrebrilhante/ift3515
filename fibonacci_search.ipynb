{
 "cells": [
  {
   "cell_type": "code",
   "execution_count": 1,
   "metadata": {},
   "outputs": [],
   "source": [
    "using Plots"
   ]
  },
  {
   "cell_type": "code",
   "execution_count": 2,
   "metadata": {},
   "outputs": [
    {
     "data": {
      "text/plain": [
       "f (generic function with 1 method)"
      ]
     },
     "execution_count": 2,
     "metadata": {},
     "output_type": "execute_result"
    }
   ],
   "source": [
    "f(x) = x^4*cos(1/x)+2*x^4"
   ]
  },
  {
   "cell_type": "code",
   "execution_count": 3,
   "metadata": {},
   "outputs": [
    {
     "data": {
      "text/html": [
       "<img src=\"data:image/png;base64,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\" />"
      ]
     },
     "execution_count": 3,
     "metadata": {},
     "output_type": "execute_result"
    }
   ],
   "source": [
    "xmin = -2.0\n",
    "xmax = 2.0\n",
    "\n",
    "plot(f, xmin, xmax)"
   ]
  },
  {
   "cell_type": "code",
   "execution_count": 4,
   "metadata": {},
   "outputs": [
    {
     "data": {
      "text/plain": [
       "50-element Array{Float64,1}:\n",
       "   1.0       \n",
       "   1.0       \n",
       "   2.0       \n",
       "   3.0       \n",
       "   5.0       \n",
       "   8.0       \n",
       "  13.0       \n",
       "  21.0       \n",
       "  34.0       \n",
       "  55.0       \n",
       "  89.0       \n",
       " 144.0       \n",
       " 233.0       \n",
       "   ⋮         \n",
       "   6.3246e7  \n",
       "   1.02334e8 \n",
       "   1.6558e8  \n",
       "   2.67914e8 \n",
       "   4.33494e8 \n",
       "   7.01409e8 \n",
       "   1.1349e9  \n",
       "   1.83631e9 \n",
       "   2.97122e9 \n",
       "   4.80753e9 \n",
       "   7.77874e9 \n",
       "   1.25863e10"
      ]
     },
     "execution_count": 4,
     "metadata": {},
     "output_type": "execute_result"
    }
   ],
   "source": [
    "N = 50\n",
    "F = ones(N)\n",
    "\n",
    "for i = 3:N\n",
    "    F[i] = F[i-1]+F[i-2]\n",
    "end\n",
    "\n",
    "F"
   ]
  },
  {
   "cell_type": "code",
   "execution_count": 5,
   "metadata": {},
   "outputs": [
    {
     "data": {
      "text/plain": [
       "1.0"
      ]
     },
     "execution_count": 5,
     "metadata": {},
     "output_type": "execute_result"
    }
   ],
   "source": [
    "xmin = 0\n",
    "xmax = 1.0"
   ]
  },
  {
   "cell_type": "code",
   "execution_count": 6,
   "metadata": {},
   "outputs": [
    {
     "data": {
      "text/plain": [
       "fibonacci_search (generic function with 2 methods)"
      ]
     },
     "execution_count": 6,
     "metadata": {},
     "output_type": "execute_result"
    }
   ],
   "source": [
    "function fibonacci_search(xmin, xmax, verbose::Bool = false)\n",
    "    k = 1\n",
    "    i = 1\n",
    "    d = xmax - xmin\n",
    "    xG = xmin+(F[N-2]/F[N])*d\n",
    "    xD = xmin+(F[N-1]/F[N])*d\n",
    "    fG = f(xG)\n",
    "    fD = f(xD)\n",
    "    while k < N-2\n",
    "        k += 1\n",
    "        i += 1\n",
    "        if fG < fD\n",
    "            xmax = xD\n",
    "            d = xmax - xmin\n",
    "            xD = xG\n",
    "            fD = fG\n",
    "            xG = xmin+(F[N-k-1]/F[N-k+1])*d\n",
    "            fG = f(xG)\n",
    "        elseif fG > fD\n",
    "            xmin = xG\n",
    "            d = xmax - xmin\n",
    "            xG = xD\n",
    "            fG = fD\n",
    "            xD = xmin+(F[N-k]/F[N-k+1])*d\n",
    "            fD = f(xD)\n",
    "        elseif fG == fD\n",
    "            k += 1\n",
    "            if k < N-2\n",
    "                xmin = xG\n",
    "                xmax = xD\n",
    "                d = xmax-xmin\n",
    "                xG = xmin+(F[N-k-1]/F[N-k+1])*d\n",
    "                xD = xmin+(F[N-k]/F[N-k+1])*d\n",
    "                fG = f(xG)\n",
    "                fD = f(xD)\n",
    "            end\n",
    "        end\n",
    "    end\n",
    "    return xmin, xmax\n",
    "end"
   ]
  },
  {
   "cell_type": "code",
   "execution_count": 7,
   "metadata": {},
   "outputs": [
    {
     "data": {
      "text/plain": [
       "(0, 1.58903325205223e-10)"
      ]
     },
     "execution_count": 7,
     "metadata": {},
     "output_type": "execute_result"
    }
   ],
   "source": [
    "xmin, xmax = fibonacci_search(xmin, xmax)"
   ]
  }
 ],
 "metadata": {
  "kernelspec": {
   "display_name": "Julia 0.6.0",
   "language": "julia",
   "name": "julia-0.6"
  },
  "language_info": {
   "file_extension": ".jl",
   "mimetype": "application/julia",
   "name": "julia",
   "version": "0.6.2"
  }
 },
 "nbformat": 4,
 "nbformat_minor": 2
}
