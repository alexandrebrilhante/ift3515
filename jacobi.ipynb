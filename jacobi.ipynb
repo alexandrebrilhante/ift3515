{
 "cells": [
  {
   "cell_type": "code",
   "execution_count": 1,
   "metadata": {},
   "outputs": [],
   "source": [
    "using Optim"
   ]
  },
  {
   "cell_type": "code",
   "execution_count": 2,
   "metadata": {},
   "outputs": [],
   "source": [
    "f(x) = (1 - x[1])^2 + 100 * (x[2] - x[1]^2)^2;"
   ]
  },
  {
   "cell_type": "code",
   "execution_count": 3,
   "metadata": {},
   "outputs": [
    {
     "data": {
      "text/plain": [
       "jacobi (generic function with 2 methods)"
      ]
     },
     "execution_count": 3,
     "metadata": {},
     "output_type": "execute_result"
    }
   ],
   "source": [
    "function jacobi(f::Function, x0::Vector, h::Float64, δ::Float64 = 1e-6)\n",
    "    k::Int64 = 0\n",
    "    x = x0\n",
    "    n::Int64 = length(x)\n",
    "    fsearch(α) = f(x-α*e[j]);\n",
    "    while k < 500\n",
    "        for j = 1:n\n",
    "            e = zeros(n)\n",
    "            e[j] = 1.0\n",
    "            α = Optim.minimizer(optimize(fsearch, 0, h, GoldenSection()))\n",
    "            x += α\n",
    "        end\n",
    "        k += 1\n",
    "    end\n",
    "    return x, k\n",
    "end"
   ]
  },
  {
   "cell_type": "code",
   "execution_count": 4,
   "metadata": {},
   "outputs": [
    {
     "data": {
      "text/plain": [
       "([4.23601e-13, 4.23601e-13], 500)"
      ]
     },
     "execution_count": 4,
     "metadata": {},
     "output_type": "execute_result"
    }
   ],
   "source": [
    "jacobi(f, zeros(2), 2.0)"
   ]
  }
 ],
 "metadata": {
  "kernelspec": {
   "display_name": "Julia 0.6.2",
   "language": "julia",
   "name": "julia-0.6"
  },
  "language_info": {
   "file_extension": ".jl",
   "mimetype": "application/julia",
   "name": "julia",
   "version": "0.6.2"
  }
 },
 "nbformat": 4,
 "nbformat_minor": 2
}
