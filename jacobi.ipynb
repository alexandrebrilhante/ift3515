{
 "cells": [
  {
   "cell_type": "code",
   "execution_count": null,
   "metadata": {},
   "outputs": [],
   "source": [
    "using Optim"
   ]
  },
  {
   "cell_type": "code",
   "execution_count": null,
   "metadata": {},
   "outputs": [],
   "source": [
    "f(x) = (1 - x[1])^2 + 100(x[2] - x[1]^2)^2;"
   ]
  },
  {
   "cell_type": "code",
   "execution_count": null,
   "metadata": {},
   "outputs": [],
   "source": [
    "function jacobi(f::Function, x0::Vector, δ::Float64 = 1e-6)\n",
    "    k = 0\n",
    "    x = x0\n",
    "    n = length(x)\n",
    "    h = 2.0\n",
    "    while dot(dfx, dfx) > δ && k < 500\n",
    "        for j = 1:n\n",
    "            fsearch(α) = f(x-α*e[j]);\n",
    "            α = Optim.minimizer(optimize(fsearch, 0, h, GoldenSection()))\n",
    "            y += α\n",
    "        end\n",
    "        x = y\n",
    "        k += 1\n",
    "    end\n",
    "    return x, k\n",
    "end"
   ]
  },
  {
   "cell_type": "code",
   "execution_count": null,
   "metadata": {},
   "outputs": [],
   "source": [
    "jacobi(f, zeros(2))"
   ]
  }
 ],
 "metadata": {
  "kernelspec": {
   "display_name": "Julia 0.6.0",
   "language": "julia",
   "name": "julia-0.6"
  },
  "language_info": {
   "file_extension": ".jl",
   "mimetype": "application/julia",
   "name": "julia",
   "version": "0.6.2"
  }
 },
 "nbformat": 4,
 "nbformat_minor": 2
}
