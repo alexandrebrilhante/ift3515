{
 "cells": [
  {
   "cell_type": "code",
   "execution_count": 1,
   "metadata": {},
   "outputs": [],
   "source": [
    "using ForwardDiff"
   ]
  },
  {
   "cell_type": "code",
   "execution_count": 2,
   "metadata": {},
   "outputs": [
    {
     "data": {
      "text/plain": [
       "armijo (generic function with 4 methods)"
      ]
     },
     "execution_count": 2,
     "metadata": {},
     "output_type": "execute_result"
    }
   ],
   "source": [
    "function armijo(f::Function, dfx::Vector, x::Vector, d::Vector,\n",
    "                α::Float64 = 1.0, β1::Float64 = 1e-4, β2::Float64 = 0.9)\n",
    "    s = β1 * dot(dfx, d)\n",
    "    fx = f(x)\n",
    "    fxcand = f(x + α * d)\n",
    "    while fxcand > fx + α * s\n",
    "        α *= β2\n",
    "        fxcand = f(x + α * d)\n",
    "    end\n",
    "    return α\n",
    "end"
   ]
  },
  {
   "cell_type": "code",
   "execution_count": 3,
   "metadata": {},
   "outputs": [
    {
     "data": {
      "text/plain": [
       "projection! (generic function with 1 method)"
      ]
     },
     "execution_count": 3,
     "metadata": {},
     "output_type": "execute_result"
    }
   ],
   "source": [
    "function projection!(x::Vector, l::Vector, u::Vector)\n",
    "    n = length(x)\n",
    "    for i = 1:n\n",
    "        x[i] = max(min(u[i], x[i]), l[i])\n",
    "    end\n",
    "    return x\n",
    "end"
   ]
  },
  {
   "cell_type": "code",
   "execution_count": 4,
   "metadata": {},
   "outputs": [
    {
     "data": {
      "text/plain": [
       "projectedgradient (generic function with 3 methods)"
      ]
     },
     "execution_count": 4,
     "metadata": {},
     "output_type": "execute_result"
    }
   ],
   "source": [
    "function projectedgradient(f::Function, g::Function, x0::Vector,\n",
    "                           l::Vector, u::Vector, δ::Float64 = 1e-6,\n",
    "                           maxiter::Int64 = 1000)\n",
    "    k::Int64 = 0\n",
    "    x = x0\n",
    "    n::Int64 = length(x)\n",
    "    d = ones(n)\n",
    "    dfx = ones(n)\n",
    "    while norm(d) > δ && k < maxiter\n",
    "        dfx = g(x)\n",
    "        d = projection!(x - dfx, l, u) - x\n",
    "        α = armijo(f, dfx, x, d)\n",
    "        x += α * d\n",
    "        k += 1\n",
    "    end\n",
    "    @show x, k\n",
    "end"
   ]
  },
  {
   "cell_type": "code",
   "execution_count": 5,
   "metadata": {},
   "outputs": [
    {
     "data": {
      "text/plain": [
       "f (generic function with 1 method)"
      ]
     },
     "execution_count": 5,
     "metadata": {},
     "output_type": "execute_result"
    }
   ],
   "source": [
    "f(x::Vector) = -10 * x[1]^2 + 10 * x[2]^2 + 4 * sin(x[1] * x[2]) - 2 * x[1] + x[1]^4"
   ]
  },
  {
   "cell_type": "code",
   "execution_count": 6,
   "metadata": {},
   "outputs": [],
   "source": [
    "g = x -> ForwardDiff.gradient(f, x);"
   ]
  },
  {
   "cell_type": "code",
   "execution_count": 7,
   "metadata": {},
   "outputs": [
    {
     "data": {
      "text/plain": [
       "2-element Array{Float64,1}:\n",
       " 0.0\n",
       " 0.0"
      ]
     },
     "execution_count": 7,
     "metadata": {},
     "output_type": "execute_result"
    }
   ],
   "source": [
    "l = [0.0; 0.0]"
   ]
  },
  {
   "cell_type": "code",
   "execution_count": 8,
   "metadata": {},
   "outputs": [
    {
     "data": {
      "text/plain": [
       "2-element Array{Float64,1}:\n",
       " 10.0\n",
       " 10.0"
      ]
     },
     "execution_count": 8,
     "metadata": {},
     "output_type": "execute_result"
    }
   ],
   "source": [
    "u = [10.0; 10.0]"
   ]
  },
  {
   "cell_type": "code",
   "execution_count": 9,
   "metadata": {},
   "outputs": [
    {
     "name": "stdout",
     "output_type": "stream",
     "text": [
      "(x, k) = ([2.28448, 0.0], 98)\n"
     ]
    },
    {
     "data": {
      "text/plain": [
       "([2.28448, 0.0], 98)"
      ]
     },
     "execution_count": 9,
     "metadata": {},
     "output_type": "execute_result"
    }
   ],
   "source": [
    "projectedgradient(f, g, zeros(2), l, u)"
   ]
  }
 ],
 "metadata": {
  "kernelspec": {
   "display_name": "Julia 0.6.2",
   "language": "julia",
   "name": "julia-0.6"
  },
  "language_info": {
   "file_extension": ".jl",
   "mimetype": "application/julia",
   "name": "julia",
   "version": "0.6.2"
  }
 },
 "nbformat": 4,
 "nbformat_minor": 2
}
