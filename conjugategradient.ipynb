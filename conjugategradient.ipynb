{
 "cells": [
  {
   "cell_type": "code",
   "execution_count": 1,
   "metadata": {},
   "outputs": [
    {
     "data": {
      "text/plain": [
       "2×2 Array{Int64,2}:\n",
       " 4  2\n",
       " 2  4"
      ]
     },
     "execution_count": 1,
     "metadata": {},
     "output_type": "execute_result"
    }
   ],
   "source": [
    "A = [4 2; 2 4]"
   ]
  },
  {
   "cell_type": "code",
   "execution_count": 2,
   "metadata": {},
   "outputs": [
    {
     "data": {
      "text/plain": [
       "2-element Array{Int64,1}:\n",
       " 0\n",
       " 1"
      ]
     },
     "execution_count": 2,
     "metadata": {},
     "output_type": "execute_result"
    }
   ],
   "source": [
    "b = [0; 1]"
   ]
  },
  {
   "cell_type": "code",
   "execution_count": 3,
   "metadata": {},
   "outputs": [
    {
     "data": {
      "text/plain": [
       "2-element Array{Int64,1}:\n",
       " 1\n",
       " 1"
      ]
     },
     "execution_count": 3,
     "metadata": {},
     "output_type": "execute_result"
    }
   ],
   "source": [
    "x = [1; 1]"
   ]
  },
  {
   "cell_type": "code",
   "execution_count": 4,
   "metadata": {},
   "outputs": [
    {
     "data": {
      "text/plain": [
       "conjugategradient (generic function with 2 methods)"
      ]
     },
     "execution_count": 4,
     "metadata": {},
     "output_type": "execute_result"
    }
   ],
   "source": [
    "function conjugategradient(A::Matrix, b::Vector, x0::Vector, δ::Float64= 1e-6)\n",
    "    n::Int64 = length(x0)\n",
    "    x = x0\n",
    "    g = b + A * x\n",
    "    d = -g\n",
    "    k::Int64 = 0\n",
    "    while norm(g) > δ\n",
    "        Ad = A * d\n",
    "        normd = dot(d, Ad)\n",
    "        α = -dot(d, g) / normd\n",
    "        x += α * d\n",
    "        g = b + A * x\n",
    "        β = dot(g, Ad) / normd\n",
    "        d = -g + β * d\n",
    "        k += 1\n",
    "    end\n",
    "    normd = dot(d, A * d)\n",
    "    α = -dot(d, g) / normd\n",
    "    x += α * d\n",
    "    return x, k\n",
    "end"
   ]
  },
  {
   "cell_type": "code",
   "execution_count": 5,
   "metadata": {},
   "outputs": [
    {
     "name": "stdout",
     "output_type": "stream",
     "text": [
      "conjugategradient(A, b, x) = ([0.166667, -0.333333], 2)\n"
     ]
    },
    {
     "data": {
      "text/plain": [
       "([0.166667, -0.333333], 2)"
      ]
     },
     "execution_count": 5,
     "metadata": {},
     "output_type": "execute_result"
    }
   ],
   "source": [
    "@show conjugategradient(A, b, x)"
   ]
  }
 ],
 "metadata": {
  "kernelspec": {
   "display_name": "Julia 0.6.2",
   "language": "julia",
   "name": "julia-0.6"
  },
  "language_info": {
   "file_extension": ".jl",
   "mimetype": "application/julia",
   "name": "julia",
   "version": "0.6.2"
  }
 },
 "nbformat": 4,
 "nbformat_minor": 2
}
