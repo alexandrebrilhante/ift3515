{
 "cells": [
  {
   "cell_type": "code",
   "execution_count": 1,
   "metadata": {},
   "outputs": [],
   "source": [
    "using Plots"
   ]
  },
  {
   "cell_type": "code",
   "execution_count": 2,
   "metadata": {},
   "outputs": [],
   "source": [
    "f(x) = x ^ 2 + x - 2 * sqrt(x);"
   ]
  },
  {
   "cell_type": "code",
   "execution_count": 3,
   "metadata": {},
   "outputs": [
    {
     "data": {
      "text/html": [
       "<img src=\"data:image/png;base64,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\" />"
      ]
     },
     "execution_count": 3,
     "metadata": {},
     "output_type": "execute_result"
    }
   ],
   "source": [
    "xmin = 0.0\n",
    "xmax = 1.0\n",
    "\n",
    "plot(f, xmin, xmax)"
   ]
  },
  {
   "cell_type": "code",
   "execution_count": 4,
   "metadata": {},
   "outputs": [
    {
     "data": {
      "text/plain": [
       "50-element Array{Float64,1}:\n",
       "   1.0       \n",
       "   1.0       \n",
       "   2.0       \n",
       "   3.0       \n",
       "   5.0       \n",
       "   8.0       \n",
       "  13.0       \n",
       "  21.0       \n",
       "  34.0       \n",
       "  55.0       \n",
       "  89.0       \n",
       " 144.0       \n",
       " 233.0       \n",
       "   ⋮         \n",
       "   6.3246e7  \n",
       "   1.02334e8 \n",
       "   1.6558e8  \n",
       "   2.67914e8 \n",
       "   4.33494e8 \n",
       "   7.01409e8 \n",
       "   1.1349e9  \n",
       "   1.83631e9 \n",
       "   2.97122e9 \n",
       "   4.80753e9 \n",
       "   7.77874e9 \n",
       "   1.25863e10"
      ]
     },
     "execution_count": 4,
     "metadata": {},
     "output_type": "execute_result"
    }
   ],
   "source": [
    "N = 50\n",
    "F = ones(N)\n",
    "\n",
    "for i = 3:N\n",
    "    F[i] = F[i-1] + F[i-2]\n",
    "end\n",
    "\n",
    "F"
   ]
  },
  {
   "cell_type": "code",
   "execution_count": 5,
   "metadata": {},
   "outputs": [
    {
     "data": {
      "text/plain": [
       "fibonacci (generic function with 1 method)"
      ]
     },
     "execution_count": 5,
     "metadata": {},
     "output_type": "execute_result"
    }
   ],
   "source": [
    "function fibonacci(f::Function, a::Float64, b::Float64)\n",
    "    k::Int64 = 1\n",
    "    d = b - a\n",
    "    xL = a + (F[N-2] / F[N]) * d\n",
    "    xR = a + (F[N-1] / F[N]) * d\n",
    "    fL = f(xL)\n",
    "    fR = f(xR)\n",
    "    while k < N - 2\n",
    "        k += 1\n",
    "        if fL < fR\n",
    "            b = xR\n",
    "            d = b - a\n",
    "            xR = xL\n",
    "            fR = fL\n",
    "            xL = a + (F[N-k-1] / F[N-k+1]) * d\n",
    "            fL = f(xL)\n",
    "        elseif fL > fR\n",
    "            b = xL\n",
    "            d = b - a\n",
    "            xL = xR\n",
    "            fL = fR\n",
    "            xR = a + (F[N-k] / F[N-k+1]) * d\n",
    "            fR = f(xR)\n",
    "        elseif fL == fR\n",
    "            k += 1\n",
    "            if k < N - 2\n",
    "                a = xL\n",
    "                b = xR\n",
    "                d = b - a\n",
    "                xL = a + (F[N-k-1] / F[N-k+1]) * d\n",
    "                xR = a + (F[N-k] / F[N-k+1]) * d\n",
    "                fL = f(xL)\n",
    "                fR = f(xR)\n",
    "            end\n",
    "        end\n",
    "    end\n",
    "    return a, b\n",
    "end"
   ]
  },
  {
   "cell_type": "code",
   "execution_count": 6,
   "metadata": {},
   "outputs": [
    {
     "data": {
      "text/plain": [
       "(0.0, 2.710282791118749e-15)"
      ]
     },
     "execution_count": 6,
     "metadata": {},
     "output_type": "execute_result"
    }
   ],
   "source": [
    "fibonacci(f, xmin, xmax)"
   ]
  }
 ],
 "metadata": {
  "kernelspec": {
   "display_name": "Julia 0.6.2",
   "language": "julia",
   "name": "julia-0.6"
  },
  "language_info": {
   "file_extension": ".jl",
   "mimetype": "application/julia",
   "name": "julia",
   "version": "0.6.2"
  }
 },
 "nbformat": 4,
 "nbformat_minor": 2
}
